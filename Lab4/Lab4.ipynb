{
  "nbformat": 4,
  "nbformat_minor": 0,
  "metadata": {
    "colab": {
      "provenance": []
    },
    "kernelspec": {
      "name": "python3",
      "display_name": "Python 3"
    },
    "language_info": {
      "name": "python"
    }
  },
  "cells": [
    {
      "cell_type": "code",
      "execution_count": null,
      "metadata": {
        "id": "M7-kkyzWg9IF"
      },
      "outputs": [],
      "source": [
        "# one sample t test, two sample t-test, paired t-test, directional one sample t-test, hypothesis testing"
      ]
    },
    {
      "cell_type": "code",
      "source": [
        "import numpy as np\n",
        "#import seaborn as sns\n",
        "#import matplotlib.pyplot as plt\n",
        "#import pandas as pd\n",
        "import scipy.stats as stats"
      ],
      "metadata": {
        "id": "RuCeunHSmBci"
      },
      "execution_count": null,
      "outputs": []
    },
    {
      "cell_type": "code",
      "source": [
        "np.random.seed(42)\n",
        "# Simulated data: working hours of 30 employees\n",
        "working_hours = np.random.normal(loc=8.2, scale=0.5, size=30)"
      ],
      "metadata": {
        "id": "JlD3V7Nciky1"
      },
      "execution_count": null,
      "outputs": []
    },
    {
      "cell_type": "code",
      "source": [
        "pop_mean = working_hours.mean()\n",
        "print(pop_mean)"
      ],
      "metadata": {
        "colab": {
          "base_uri": "https://localhost:8080/"
        },
        "id": "9_Qisn-Cw-AV",
        "outputId": "36c8b2b1-4833-43ed-9614-dea68979329d"
      },
      "execution_count": null,
      "outputs": [
        {
          "output_type": "stream",
          "name": "stdout",
          "text": [
            "8.10592655207448\n"
          ]
        }
      ]
    },
    {
      "cell_type": "code",
      "source": [
        "# sample_size =50\n",
        "# sampled_hrs = np.random.choice(working_hours,size=sample_size, replace=False)\n",
        "# samp_mean = sampled_hrs.mean()\n",
        "# print(samp_mean)"
      ],
      "metadata": {
        "id": "o0jNxeOWzb3M"
      },
      "execution_count": null,
      "outputs": []
    },
    {
      "cell_type": "markdown",
      "source": [
        "#one sample t-test\n",
        " * You need to determine whether their average working hours significantly deviate from a standard 8-hour workday\n",
        " * Making the Null Hypothesis :\n",
        "  * Null Hypothesis (H): The average working hours of the employees is 8 hours. H0 : mu == 8\n",
        "  * Alternative hypothesis (H): The average working hours of the employees is not 8 hours. H1 : mu != 8\n",
        "\n",
        "* calculating t-value for p-value, two ways: own implementation of t-value formula and lookup p-value for it and compare or use existing implementation\n",
        "\n",
        "  * t = (xbar - muo)/ (s/root(n)) where\n",
        "  * Sample size n\n",
        "  * Sample mean  ̄x\n",
        "  * Sample standard deviation s\n",
        "  * Population mean μ0\n",
        "  * Significance level α\n",
        "\n",
        "\n",
        "\n",
        "\n"
      ],
      "metadata": {
        "id": "-wuyHZNGvE4K"
      }
    },
    {
      "cell_type": "code",
      "source": [
        "# Perform a one-sample t-test\n",
        "mu=8\n",
        "t_stat, p_value = stats.ttest_1samp(working_hours, mu)\n",
        "\n",
        "print(f\"T-statistic: {t_stat:.10f}\")\n",
        "print(f\"P-value: {p_value:.10f}\")\n",
        "\n",
        "# Determine if the result is significant (two-tailed)\n",
        "alpha = 0.05\n",
        "if p_value < alpha:\n",
        "    print(\"Reject the null hypothesis, the average work hours significantly deviate from 8 hours.\")\n",
        "else:\n",
        "    print(\"Fail to reject the null hypothesis, no significant deviation from 8 hours.\")"
      ],
      "metadata": {
        "colab": {
          "base_uri": "https://localhost:8080/"
        },
        "id": "LLqBxzHz-Kp8",
        "outputId": "dc0235ea-de5e-4344-b5d9-22b610311e68"
      },
      "execution_count": null,
      "outputs": [
        {
          "output_type": "stream",
          "name": "stdout",
          "text": [
            "T-statistic: 1.2892877260\n",
            "P-value: 0.2074871203\n",
            "Fail to reject the null hypothesis, no significant deviation from 8 hours.\n"
          ]
        }
      ]
    },
    {
      "cell_type": "code",
      "source": [
        "# def one_sample_t_test(sample_data, population_mean):\n",
        "#   t_val = (sample_data.mean() - population_mean) / (sample_data.std()/np.sqrt(sample_data.size))\n",
        "#   p_val_one_tailed = stats.t.cdf(t_val, df=sample_data.size -1)\n",
        "#   p_val_two_tailed = 2 * (1 - p_val_one_tailed)\n",
        "#   return t_val, p_val_two_tailed\n",
        "# t_value, p_value = one_sample_t_test(sampled_hrs, population_mean=pop_mean)\n",
        "# print(f\"One-sample t-test: t-value = {t_value}, p-value = {p_value}\")"
      ],
      "metadata": {
        "id": "4pFCJIzV0Rvs"
      },
      "execution_count": null,
      "outputs": []
    },
    {
      "cell_type": "code",
      "source": [
        "# def hypothesis_tester(p_val, sig_lvl):\n",
        "#   if(p_val<sig_lvl):\n",
        "#     print(f\"For p-value: {p_val} and significance level: {sig_lvl} , we reject the null Hypothesis.\\nThis is significant evidence to suggest that there is a deviation from the standard.\")\n",
        "#   elif(p_val>sig_lvl):\n",
        "#     print(f\"For p-value: {p_val} and significance level: {sig_lvl} , we failed to reject the null Hypothesis.\\nThis is significant evidence to suggest that there is no deviation from the standard.\")\n",
        "\n",
        "# hypothesis_tester(p_value, sig_lvl=0.05)\n"
      ],
      "metadata": {
        "id": "kezPuTH50gyI"
      },
      "execution_count": null,
      "outputs": []
    },
    {
      "cell_type": "markdown",
      "source": [
        "#Two sampled t-test"
      ],
      "metadata": {
        "id": "T677y5ca2RK2"
      }
    },
    {
      "cell_type": "code",
      "source": [
        "# Simulated heights (in cm)\n",
        "np.random.seed(24)\n",
        "men_heights = np.random.normal(loc=175, scale=7, size=40)\n",
        "women_heights = np.random.normal(loc=165, scale=6, size=40)\n",
        "\n",
        "t_stat, p_value = stats.ttest_ind(men_heights, women_heights, equal_var=False)\n",
        "\n",
        "print(f\"T-statistic: {t_stat:.10f}\")\n",
        "print(f\"P-value: {p_value:.10f}\")\n",
        "\n",
        "alpha = 0.05\n",
        "if p_value < alpha:\n",
        "    print(\"Reject the null hypothesis, there is a significant difference between the average heights of men and women.\")\n",
        "else:\n",
        "    print(\"Fail to reject the null hypothesis, there is no significant difference between the average heights of men and women.\")"
      ],
      "metadata": {
        "colab": {
          "base_uri": "https://localhost:8080/"
        },
        "id": "6Gxepa3R2VE2",
        "outputId": "dee2c6b1-9119-4918-abc6-18f35f1a1c9d"
      },
      "execution_count": null,
      "outputs": [
        {
          "output_type": "stream",
          "name": "stdout",
          "text": [
            "T-statistic: 7.3726747000\n",
            "P-value: 0.0000000002\n",
            "Reject the null hypothesis, there is a significant difference between the average heights of men and women.\n"
          ]
        }
      ]
    },
    {
      "cell_type": "markdown",
      "source": [
        "#Paired T-test"
      ],
      "metadata": {
        "id": "MkoaOhDDA_eL"
      }
    },
    {
      "cell_type": "code",
      "source": [
        "import numpy as np\n",
        "import scipy.stats as stats\n",
        "\n",
        "# Simulated data\n",
        "np.random.seed(101)\n",
        "weight_before = np.random.normal(loc=85, scale=10, size=20)\n",
        "weight_after = weight_before - np.random.normal(loc=3, scale=1.5, size=20)\n",
        "\n",
        "# Perform a paired t-test\n",
        "t_stat, p_value = stats.ttest_rel(weight_before, weight_after)\n",
        "\n",
        "print(f\"T-statistic: {t_stat:.10f}\")\n",
        "print(f\"P-value: {p_value:.10f}\")\n",
        "\n",
        "# Interpret the p-value\n",
        "alpha = 0.05\n",
        "if p_value < alpha:\n",
        "    print(\"Reject the null hypothesis: There is significant weight loss after the treatment.\")\n",
        "else:\n",
        "    print(\"Fail to reject the null hypothesis: No significant weight loss after the treatment.\")\n"
      ],
      "metadata": {
        "colab": {
          "base_uri": "https://localhost:8080/"
        },
        "id": "Lh4FTJ9vBB4N",
        "outputId": "72cb23df-260b-4a9a-e662-96a61dee8907"
      },
      "execution_count": null,
      "outputs": [
        {
          "output_type": "stream",
          "name": "stdout",
          "text": [
            "T-statistic: 10.2346299024\n",
            "P-value: 0.0000000036\n",
            "Reject the null hypothesis: There is significant weight loss after the treatment.\n"
          ]
        }
      ]
    },
    {
      "cell_type": "markdown",
      "source": [
        "#q3"
      ],
      "metadata": {
        "id": "-87vZ8u6BSZM"
      }
    },
    {
      "cell_type": "code",
      "source": [
        "import numpy as np\n",
        "import scipy.stats as stats\n",
        "\n",
        "# Sample data (replace this with your actual scores)\n",
        "np.random.seed(101)  # For reproducibility\n",
        "sample_scores = np.random.normal(loc=76, scale=6, size=30)  # Example sample\n",
        "\n",
        "# Parameters\n",
        "population_mean = 75\n",
        "population_std_dev = 6\n",
        "n = len(sample_scores)\n",
        "\n",
        "# Calculate the sample mean\n",
        "sample_mean = np.mean(sample_scores)\n",
        "\n",
        "# Calculate the Z-statistic\n",
        "z_stat = (sample_mean - population_mean) / (population_std_dev / np.sqrt(n))\n",
        "\n",
        "# Calculate the p-value (two-tailed)\n",
        "p_value = 2 * (1 - stats.norm.cdf(abs(z_stat)))\n",
        "\n",
        "print(f\"Sample Mean: {sample_mean:.2f}\")\n",
        "print(f\"Z-statistic: {z_stat:.10f}\")\n",
        "print(f\"P-value: {p_value:.10f}\")\n",
        "\n",
        "# Interpret the p-value\n",
        "alpha = 0.05\n",
        "if p_value < alpha:\n",
        "    print(\"Reject the null hypothesis: There is a significant difference from the population mean.\")\n",
        "else:\n",
        "    print(\"Fail to reject the null hypothesis: No significant difference from the population mean.\")\n"
      ],
      "metadata": {
        "colab": {
          "base_uri": "https://localhost:8080/"
        },
        "id": "5aHh14nRBiKG",
        "outputId": "b8066b8a-08db-4877-836d-fbed0d4036f0"
      },
      "execution_count": null,
      "outputs": [
        {
          "output_type": "stream",
          "name": "stdout",
          "text": [
            "Sample Mean: 77.81\n",
            "Z-statistic: 2.5611224501\n",
            "P-value: 0.0104334575\n",
            "Reject the null hypothesis: There is a significant difference from the population mean.\n"
          ]
        }
      ]
    },
    {
      "cell_type": "markdown",
      "source": [
        "#HW Directional one sampled t test"
      ],
      "metadata": {
        "id": "RoWBcC2cCAvU"
      }
    },
    {
      "cell_type": "code",
      "source": [
        "import numpy as np\n",
        "import scipy.stats as stats\n",
        "\n",
        "# Simulated data\n",
        "np.random.seed(101)\n",
        "sample_data = np.random.normal(loc=70, scale=10, size=30)  # Sample mean ~ 70\n",
        "\n",
        "# Hypothesized population mean\n",
        "hypothesized_mean = 75\n",
        "\n",
        "# Perform the one-sample t-test\n",
        "t_stat, p_value = stats.ttest_1samp(sample_data, hypothesized_mean)\n",
        "\n",
        "# Determine if left-tailed or right-tailed\n",
        "# Left-tailed test (H1: μ < μ0)\n",
        "if t_stat < 0:\n",
        "    p_value_left = p_value / 2  # For left-tailed test\n",
        "else:\n",
        "    p_value_left = p_value  # Not applicable for left-tailed\n",
        "\n",
        "# Right-tailed test (H1: μ > μ0)\n",
        "if t_stat > 0:\n",
        "    p_value_right = p_value / 2  # For right-tailed test\n",
        "else:\n",
        "    p_value_right = p_value  # Not applicable for right-tailed\n",
        "\n",
        "# Print results\n",
        "print(f\"Sample Mean: {np.mean(sample_data):.2f}\")\n",
        "print(f\"T-statistic: {t_stat:.10f}\")\n",
        "print(f\"P-value (Two-tailed): {p_value:.10f}\")\n",
        "print(f\"P-value (Left-tailed): {p_value_left:.10f}\")\n",
        "print(f\"P-value (Right-tailed): {p_value_right:.10f}\")\n",
        "\n",
        "# Interpret the results\n",
        "alpha = 0.05\n",
        "\n",
        "# Left-tailed test interpretation\n",
        "if p_value_left < alpha:\n",
        "    print(\"Reject the null hypothesis for the left-tailed test: The mean is significantly less than 75.\")\n",
        "else:\n",
        "    print(\"Fail to reject the null hypothesis for the left-tailed test: No significant evidence that the mean is less than 75.\")\n",
        "\n",
        "# Right-tailed test interpretation\n",
        "if p_value_right < alpha:\n",
        "    print(\"Reject the null hypothesis for the right-tailed test: The mean is significantly greater than 75.\")\n",
        "else:\n",
        "    print(\"Fail to reject the null hypothesis for the right-tailed test: No significant evidence that the mean is greater than 75.\")\n"
      ],
      "metadata": {
        "id": "jbUnSEoNCEH-",
        "outputId": "9f89c984-7d63-4619-8c2c-5a47f01598f5",
        "colab": {
          "base_uri": "https://localhost:8080/"
        }
      },
      "execution_count": null,
      "outputs": [
        {
          "output_type": "stream",
          "name": "stdout",
          "text": [
            "Sample Mean: 73.01\n",
            "T-statistic: -0.9974769211\n",
            "P-value (Two-tailed): 0.3267837720\n",
            "P-value (Left-tailed): 0.1633918860\n",
            "P-value (Right-tailed): 0.3267837720\n",
            "Fail to reject the null hypothesis for the left-tailed test: No significant evidence that the mean is less than 75.\n",
            "Fail to reject the null hypothesis for the right-tailed test: No significant evidence that the mean is greater than 75.\n"
          ]
        }
      ]
    }
  ]
}