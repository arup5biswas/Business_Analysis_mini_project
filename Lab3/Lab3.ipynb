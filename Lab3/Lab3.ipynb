{
  "nbformat": 4,
  "nbformat_minor": 0,
  "metadata": {
    "colab": {
      "provenance": []
    },
    "kernelspec": {
      "name": "python3",
      "display_name": "Python 3"
    },
    "language_info": {
      "name": "python"
    }
  },
  "cells": [
    {
      "cell_type": "code",
      "execution_count": null,
      "metadata": {
        "colab": {
          "base_uri": "https://localhost:8080/"
        },
        "id": "JXje5GDlzbE9",
        "outputId": "c9e7a0f2-48d7-4713-ee7a-39ee0e174afb"
      },
      "outputs": [
        {
          "output_type": "stream",
          "name": "stdout",
          "text": [
            "Collecting ucimlrepo\n",
            "  Downloading ucimlrepo-0.0.7-py3-none-any.whl.metadata (5.5 kB)\n",
            "Requirement already satisfied: pandas>=1.0.0 in /usr/local/lib/python3.10/dist-packages (from ucimlrepo) (2.1.4)\n",
            "Requirement already satisfied: certifi>=2020.12.5 in /usr/local/lib/python3.10/dist-packages (from ucimlrepo) (2024.8.30)\n",
            "Requirement already satisfied: numpy<2,>=1.22.4 in /usr/local/lib/python3.10/dist-packages (from pandas>=1.0.0->ucimlrepo) (1.26.4)\n",
            "Requirement already satisfied: python-dateutil>=2.8.2 in /usr/local/lib/python3.10/dist-packages (from pandas>=1.0.0->ucimlrepo) (2.8.2)\n",
            "Requirement already satisfied: pytz>=2020.1 in /usr/local/lib/python3.10/dist-packages (from pandas>=1.0.0->ucimlrepo) (2024.2)\n",
            "Requirement already satisfied: tzdata>=2022.1 in /usr/local/lib/python3.10/dist-packages (from pandas>=1.0.0->ucimlrepo) (2024.1)\n",
            "Requirement already satisfied: six>=1.5 in /usr/local/lib/python3.10/dist-packages (from python-dateutil>=2.8.2->pandas>=1.0.0->ucimlrepo) (1.16.0)\n",
            "Downloading ucimlrepo-0.0.7-py3-none-any.whl (8.0 kB)\n",
            "Installing collected packages: ucimlrepo\n",
            "Successfully installed ucimlrepo-0.0.7\n"
          ]
        }
      ],
      "source": [
        "import numpy as np\n",
        "import seaborn as sns\n",
        "import matplotlib.pyplot as plt\n",
        "import sklearn as sk\n",
        "import pandas as pd\n",
        "import scipy as sp\n",
        "from scipy.stats import norm\n",
        "!pip install ucimlrepo\n",
        "from ucimlrepo import fetch_ucirepo"
      ]
    },
    {
      "cell_type": "code",
      "source": [
        "# fetch dataset\n",
        "adult = fetch_ucirepo(id=2)\n",
        "\n",
        "# data (as pandas dataframes)\n",
        "X = adult.data.features\n",
        "y = adult.data.targets\n",
        "\n",
        "# metadata\n",
        "print(adult.metadata)\n",
        "\n",
        "# variable information\n",
        "print(adult.variables)"
      ],
      "metadata": {
        "colab": {
          "base_uri": "https://localhost:8080/"
        },
        "id": "C_W7o2NEEjNV",
        "outputId": "92ffb283-53f0-4ad4-c972-9b147fbba640"
      },
      "execution_count": null,
      "outputs": [
        {
          "output_type": "stream",
          "name": "stdout",
          "text": [
            "{'uci_id': 2, 'name': 'Adult', 'repository_url': 'https://archive.ics.uci.edu/dataset/2/adult', 'data_url': 'https://archive.ics.uci.edu/static/public/2/data.csv', 'abstract': 'Predict whether income exceeds $50K/yr based on census data. Also known as \"Census Income\" dataset. ', 'area': 'Social Science', 'tasks': ['Classification'], 'characteristics': ['Multivariate'], 'num_instances': 48842, 'num_features': 14, 'feature_types': ['Categorical', 'Integer'], 'demographics': ['Age', 'Income', 'Education Level', 'Other', 'Race', 'Sex'], 'target_col': ['income'], 'index_col': None, 'has_missing_values': 'yes', 'missing_values_symbol': 'NaN', 'year_of_dataset_creation': 1996, 'last_updated': 'Mon Sep 09 2024', 'dataset_doi': '10.24432/C5XW20', 'creators': ['Barry Becker', 'Ronny Kohavi'], 'intro_paper': None, 'additional_info': {'summary': 'Extraction was done by Barry Becker from the 1994 Census database.  A set of reasonably clean records was extracted using the following conditions: ((AAGE>16) && (AGI>100) && (AFNLWGT>1)&& (HRSWK>0))\\r\\n\\r\\nPrediction task is to determine whether a person makes over 50K a year.\\r\\n', 'purpose': None, 'funded_by': None, 'instances_represent': None, 'recommended_data_splits': None, 'sensitive_data': None, 'preprocessing_description': None, 'variable_info': 'Listing of attributes:\\r\\n\\r\\n>50K, <=50K.\\r\\n\\r\\nage: continuous.\\r\\nworkclass: Private, Self-emp-not-inc, Self-emp-inc, Federal-gov, Local-gov, State-gov, Without-pay, Never-worked.\\r\\nfnlwgt: continuous.\\r\\neducation: Bachelors, Some-college, 11th, HS-grad, Prof-school, Assoc-acdm, Assoc-voc, 9th, 7th-8th, 12th, Masters, 1st-4th, 10th, Doctorate, 5th-6th, Preschool.\\r\\neducation-num: continuous.\\r\\nmarital-status: Married-civ-spouse, Divorced, Never-married, Separated, Widowed, Married-spouse-absent, Married-AF-spouse.\\r\\noccupation: Tech-support, Craft-repair, Other-service, Sales, Exec-managerial, Prof-specialty, Handlers-cleaners, Machine-op-inspct, Adm-clerical, Farming-fishing, Transport-moving, Priv-house-serv, Protective-serv, Armed-Forces.\\r\\nrelationship: Wife, Own-child, Husband, Not-in-family, Other-relative, Unmarried.\\r\\nrace: White, Asian-Pac-Islander, Amer-Indian-Eskimo, Other, Black.\\r\\nsex: Female, Male.\\r\\ncapital-gain: continuous.\\r\\ncapital-loss: continuous.\\r\\nhours-per-week: continuous.\\r\\nnative-country: United-States, Cambodia, England, Puerto-Rico, Canada, Germany, Outlying-US(Guam-USVI-etc), India, Japan, Greece, South, China, Cuba, Iran, Honduras, Philippines, Italy, Poland, Jamaica, Vietnam, Mexico, Portugal, Ireland, France, Dominican-Republic, Laos, Ecuador, Taiwan, Haiti, Columbia, Hungary, Guatemala, Nicaragua, Scotland, Thailand, Yugoslavia, El-Salvador, Trinadad&Tobago, Peru, Hong, Holand-Netherlands.', 'citation': None}}\n",
            "              name     role         type      demographic  \\\n",
            "0              age  Feature      Integer              Age   \n",
            "1        workclass  Feature  Categorical           Income   \n",
            "2           fnlwgt  Feature      Integer             None   \n",
            "3        education  Feature  Categorical  Education Level   \n",
            "4    education-num  Feature      Integer  Education Level   \n",
            "5   marital-status  Feature  Categorical            Other   \n",
            "6       occupation  Feature  Categorical            Other   \n",
            "7     relationship  Feature  Categorical            Other   \n",
            "8             race  Feature  Categorical             Race   \n",
            "9              sex  Feature       Binary              Sex   \n",
            "10    capital-gain  Feature      Integer             None   \n",
            "11    capital-loss  Feature      Integer             None   \n",
            "12  hours-per-week  Feature      Integer             None   \n",
            "13  native-country  Feature  Categorical            Other   \n",
            "14          income   Target       Binary           Income   \n",
            "\n",
            "                                          description units missing_values  \n",
            "0                                                 N/A  None             no  \n",
            "1   Private, Self-emp-not-inc, Self-emp-inc, Feder...  None            yes  \n",
            "2                                                None  None             no  \n",
            "3    Bachelors, Some-college, 11th, HS-grad, Prof-...  None             no  \n",
            "4                                                None  None             no  \n",
            "5   Married-civ-spouse, Divorced, Never-married, S...  None             no  \n",
            "6   Tech-support, Craft-repair, Other-service, Sal...  None            yes  \n",
            "7   Wife, Own-child, Husband, Not-in-family, Other...  None             no  \n",
            "8   White, Asian-Pac-Islander, Amer-Indian-Eskimo,...  None             no  \n",
            "9                                       Female, Male.  None             no  \n",
            "10                                               None  None             no  \n",
            "11                                               None  None             no  \n",
            "12                                               None  None             no  \n",
            "13  United-States, Cambodia, England, Puerto-Rico,...  None            yes  \n",
            "14                                       >50K, <=50K.  None             no  \n"
          ]
        }
      ]
    },
    {
      "cell_type": "code",
      "source": [
        "#getting a dataframe with only integers and float64s\n",
        "\n",
        "df_nums = X.select_dtypes(include=['int64','float64'])\n",
        "print(df_nums.head)\n",
        "print(df_nums.describe)"
      ],
      "metadata": {
        "colab": {
          "base_uri": "https://localhost:8080/"
        },
        "id": "g9-0hHE1Hbg6",
        "outputId": "0859f5d3-db03-4b49-b960-873a7745994f"
      },
      "execution_count": null,
      "outputs": [
        {
          "output_type": "stream",
          "name": "stdout",
          "text": [
            "<bound method NDFrame.head of        age  fnlwgt  education-num  capital-gain  capital-loss  hours-per-week\n",
            "0       39   77516             13          2174             0              40\n",
            "1       50   83311             13             0             0              13\n",
            "2       38  215646              9             0             0              40\n",
            "3       53  234721              7             0             0              40\n",
            "4       28  338409             13             0             0              40\n",
            "...    ...     ...            ...           ...           ...             ...\n",
            "48837   39  215419             13             0             0              36\n",
            "48838   64  321403              9             0             0              40\n",
            "48839   38  374983             13             0             0              50\n",
            "48840   44   83891             13          5455             0              40\n",
            "48841   35  182148             13             0             0              60\n",
            "\n",
            "[48842 rows x 6 columns]>\n",
            "<bound method NDFrame.describe of        age  fnlwgt  education-num  capital-gain  capital-loss  hours-per-week\n",
            "0       39   77516             13          2174             0              40\n",
            "1       50   83311             13             0             0              13\n",
            "2       38  215646              9             0             0              40\n",
            "3       53  234721              7             0             0              40\n",
            "4       28  338409             13             0             0              40\n",
            "...    ...     ...            ...           ...           ...             ...\n",
            "48837   39  215419             13             0             0              36\n",
            "48838   64  321403              9             0             0              40\n",
            "48839   38  374983             13             0             0              50\n",
            "48840   44   83891             13          5455             0              40\n",
            "48841   35  182148             13             0             0              60\n",
            "\n",
            "[48842 rows x 6 columns]>\n"
          ]
        }
      ]
    },
    {
      "cell_type": "code",
      "source": [
        "missing_values = df_nums.isnull().sum()\n",
        "print(missing_values)"
      ],
      "metadata": {
        "colab": {
          "base_uri": "https://localhost:8080/"
        },
        "id": "j6kLu2cNg4KK",
        "outputId": "1e0a6033-7930-4608-aee8-97bd006f2bb6"
      },
      "execution_count": null,
      "outputs": [
        {
          "output_type": "stream",
          "name": "stdout",
          "text": [
            "age               0\n",
            "fnlwgt            0\n",
            "education-num     0\n",
            "capital-gain      0\n",
            "capital-loss      0\n",
            "hours-per-week    0\n",
            "dtype: int64\n"
          ]
        }
      ]
    },
    {
      "cell_type": "markdown",
      "source": [
        "# **Age column**"
      ],
      "metadata": {
        "id": "apw8bWr7WW1t"
      }
    },
    {
      "cell_type": "code",
      "source": [
        "df_age = df_nums['age']\n",
        "df_age.describe()\n",
        "print(df_age.head)"
      ],
      "metadata": {
        "colab": {
          "base_uri": "https://localhost:8080/"
        },
        "id": "oLZQCb6NWTPI",
        "outputId": "5c4d30a1-9c0f-413d-eafd-78f88c9cf4a5"
      },
      "execution_count": null,
      "outputs": [
        {
          "output_type": "stream",
          "name": "stdout",
          "text": [
            "<bound method NDFrame.head of 0        39\n",
            "1        50\n",
            "2        38\n",
            "3        53\n",
            "4        28\n",
            "         ..\n",
            "48837    39\n",
            "48838    64\n",
            "48839    38\n",
            "48840    44\n",
            "48841    35\n",
            "Name: age, Length: 48842, dtype: int64>\n"
          ]
        }
      ]
    },
    {
      "cell_type": "markdown",
      "source": [
        "## **New section for Friday Updates**"
      ],
      "metadata": {
        "id": "NEFEbhoCsovo"
      }
    },
    {
      "cell_type": "code",
      "source": [
        "print(df_age.size)"
      ],
      "metadata": {
        "colab": {
          "base_uri": "https://localhost:8080/"
        },
        "id": "I_ZWJeoUzfq8",
        "outputId": "0b058cad-5d63-4365-ba01-c5fdc30510a2"
      },
      "execution_count": null,
      "outputs": [
        {
          "output_type": "stream",
          "name": "stdout",
          "text": [
            "48842\n"
          ]
        }
      ]
    },
    {
      "cell_type": "markdown",
      "source": [
        "### **Population**"
      ],
      "metadata": {
        "id": "akxUJylU0kvs"
      }
    },
    {
      "cell_type": "code",
      "source": [
        "#to get age mean, var, std dev, zscore conf inter\n",
        "print(df_age.mean())\n",
        "print(np.var(df_age))\n",
        "print(np.std(df_age))\n",
        "plt.hist(df_age, bins=30, density=True, alpha=0.6, color='g') #our histogram\n",
        "\n",
        "#overlaying a normal dist\n",
        "x = np.linspace(min(df_age), max(df_age), 100)\n",
        "p = norm.pdf(x, df_age.mean(), np.std(df_age)) #/ np.sqrt(sample_size)\n",
        "plt.plot(x,p, 'k', linewidth=2)\n",
        "\n",
        "plt.title('Histogram of Population with Normal Distribution Overlay')\n",
        "plt.xlabel('Population age')\n",
        "plt.ylabel('Frequency')\n",
        "plt.show()"
      ],
      "metadata": {
        "colab": {
          "base_uri": "https://localhost:8080/",
          "height": 524
        },
        "id": "-ViLbiZnsWBz",
        "outputId": "9c80c133-b0a3-4877-ef84-3115d946723c"
      },
      "execution_count": null,
      "outputs": [
        {
          "output_type": "stream",
          "name": "stdout",
          "text": [
            "38.64358543876172\n",
            "187.9742339649884\n",
            "13.71036957798689\n"
          ]
        },
        {
          "output_type": "display_data",
          "data": {
            "text/plain": [
              "<Figure size 640x480 with 1 Axes>"
            ],
            "image/png": "[encoded data removed]"
          },
          "metadata": {}
        }
      ]
    },
    {
      "cell_type": "code",
      "source": [
        "z_score = norm.ppf(0.975)  # 95% confidence interval\n",
        "margin_of_error = z_score * (np.std(df_age) / np.sqrt(df_age.size))\n",
        "conf_interval = (df_age.mean() - margin_of_error, df_age.mean() + margin_of_error)\n",
        "\n",
        "print(f\"95% Confidence Interval for the Mean: {conf_interval[0]:.2f} - {conf_interval[1]:.2f}\")"
      ],
      "metadata": {
        "colab": {
          "base_uri": "https://localhost:8080/"
        },
        "id": "2Bnlu5YyzRlg",
        "outputId": "eb6cd770-fecd-4628-9ba8-e353f18b7f83"
      },
      "execution_count": null,
      "outputs": [
        {
          "output_type": "stream",
          "name": "stdout",
          "text": [
            "95% Confidence Interval for the Mean: 38.52 - 38.77\n"
          ]
        }
      ]
    },
    {
      "cell_type": "markdown",
      "source": [
        "### **With replacment**"
      ],
      "metadata": {
        "id": "7ynkiVzs0eXZ"
      }
    },
    {
      "cell_type": "code",
      "source": [
        "#sampling w mean\n",
        "def sample_mean(data, sample_size):\n",
        "  sample=data.sample(n=sample_size, replace =True) #keeping replace true for here\n",
        "  return sample.mean()\n",
        "\n",
        "n_samples = 1000\n",
        "sample_size = 50\n",
        "sample_means = [\n",
        "    sample_mean(df_age, sample_size) for _ in range(n_samples)\n",
        "] #storing in an array our samples' means\n",
        "\n",
        "#mean, variance, standard deviation of sampled means\n",
        "mean_sample_means = np.mean(sample_means)\n",
        "variance_sample_means = np.var(sample_means)\n",
        "standard_deviation_means = np.std(sample_means)\n",
        "\n",
        "print(f\"Mean of Sample Means: {mean_sample_means:.2f}\") #f\"... f-string format to do func call etc inside print\n",
        "print(f\"Variance of Sample Means: {variance_sample_means:.2f}\") #:.2f for format specifier, precision, how many places and what type\n",
        "print(f\"Standard Deviation of Sample Means: {standard_deviation_means:.2f}\")\n",
        "\n",
        "plt.hist(sample_means, bins=30, density=True, alpha=0.6, color='g') #our histogram\n",
        "\n",
        "#overlaying a normal dist\n",
        "x = np.linspace(min(sample_means), max(sample_means), 100)\n",
        "p = norm.pdf(x, mean_sample_means, standard_deviation_means) #/ np.sqrt(sample_size)\n",
        "plt.plot(x,p, 'k', linewidth=2)\n",
        "\n",
        "plt.title('Histogram of Sample Means with Normal Distribution Overlay')\n",
        "plt.xlabel('Sample Mean')\n",
        "plt.ylabel('Frequency')\n",
        "plt.show()"
      ],
      "metadata": {
        "colab": {
          "base_uri": "https://localhost:8080/",
          "height": 524
        },
        "id": "qjIdybdf0VMo",
        "outputId": "15af545e-f03e-4177-ca67-497c648ba857"
      },
      "execution_count": null,
      "outputs": [
        {
          "output_type": "stream",
          "name": "stdout",
          "text": [
            "Mean of Sample Means: 38.73\n",
            "Variance of Sample Means: 3.68\n",
            "Standard Deviation of Sample Means: 1.92\n"
          ]
        },
        {
          "output_type": "display_data",
          "data": {
            "text/plain": [
              "<Figure size 640x480 with 1 Axes>"
            ],
            "image/png": "[encoded data removed]"
          },
          "metadata": {}
        }
      ]
    },
    {
      "cell_type": "code",
      "source": [
        "#Confidence interval calcer\n",
        "z_score = norm.ppf(0.975)  # 95% confidence interval\n",
        "margin_of_error = z_score * (standard_deviation_means / np.sqrt(sample_size))\n",
        "conf_interval = (mean_sample_means - margin_of_error, mean_sample_means + margin_of_error)\n",
        "\n",
        "print(f\"95% Confidence Interval for the Mean: {conf_interval[0]:.2f} - {conf_interval[1]:.2f}\")\n"
      ],
      "metadata": {
        "colab": {
          "base_uri": "https://localhost:8080/"
        },
        "id": "iKFjNDYi0wF0",
        "outputId": "6a87924b-833d-44d9-c349-138e63457136"
      },
      "execution_count": null,
      "outputs": [
        {
          "output_type": "stream",
          "name": "stdout",
          "text": [
            "95% Confidence Interval for the Mean: 38.07 - 39.16\n"
          ]
        }
      ]
    },
    {
      "cell_type": "code",
      "source": [
        "#Bootstrap\n",
        "# Select a single sample of size 30\n",
        "sample_size_bootstrap = 30\n",
        "random_sample_bootstrap = df_age.sample(n=sample_size_bootstrap, replace=True)\n",
        "\n",
        "# Function to perform bootstrapping\n",
        "def bootstrap(data, n_bootstrap_samples):\n",
        "    bootstrap_means = [data.sample(frac=1, replace=True).mean() for _ in range(n_bootstrap_samples)]\n",
        "    return np.array(bootstrap_means)\n",
        "\n",
        "# Perform bootstrapping\n",
        "n_bootstrap_samples = 1000\n",
        "bootstrap_means = bootstrap(random_sample_bootstrap, n_bootstrap_samples)\n",
        "\n",
        "# Calculate mean, variance, and standard deviation of bootstrap means\n",
        "mean_bootstrap_means = np.mean(bootstrap_means)\n",
        "std_dev_bootstrap_means = np.std(bootstrap_means)\n",
        "\n",
        "print(f\"Bootstrap Mean Estimate: {mean_bootstrap_means:.2f}\")\n",
        "print(f\"Bootstrap Standard Deviation: {std_dev_bootstrap_means:.2f}\")\n",
        "\n",
        "# Confidence interval for the bootstrap means\n",
        "conf_interval_bootstrap = np.percentile(bootstrap_means, [2.5, 97.5])\n",
        "print(f\"95% Confidence Interval from Bootstrapping: {conf_interval_bootstrap[0]:.2f} - {conf_interval_bootstrap[1]:.2f}\")\n"
      ],
      "metadata": {
        "colab": {
          "base_uri": "https://localhost:8080/"
        },
        "id": "2lY0e-J20yns",
        "outputId": "ce13cc0a-4d7d-47ae-ce7e-6d008d01b0e3"
      },
      "execution_count": null,
      "outputs": [
        {
          "output_type": "stream",
          "name": "stdout",
          "text": [
            "Bootstrap Mean Estimate: 40.24\n",
            "Bootstrap Standard Deviation: 2.41\n",
            "95% Confidence Interval from Bootstrapping: 35.46 - 45.07\n"
          ]
        }
      ]
    },
    {
      "cell_type": "code",
      "source": [
        "#proportion confidence interval\n",
        "# Define a binary outcome for proportion calculation (e.g., age > 50)\n",
        "proportion_column = (df_age > 50).astype(int)\n",
        "\n",
        "# Select a sample from this binary outcome\n",
        "sample_proportion = proportion_column.sample(n=sample_size, replace=True)\n",
        "p_hat = sample_proportion.mean()\n",
        "\n",
        "# Confidence interval for proportion\n",
        "z_score_prop = norm.ppf(0.975)\n",
        "standard_error_prop = np.sqrt(p_hat * (1 - p_hat) / sample_size)\n",
        "margin_of_error_prop = z_score_prop * standard_error_prop\n",
        "conf_interval_prop = (p_hat - margin_of_error_prop, p_hat + margin_of_error_prop)\n",
        "\n",
        "print(f\"Sample Proportion: {p_hat:.2f}\")\n",
        "print(f\"95% Confidence Interval for Proportion: {conf_interval_prop[0]:.2f} - {conf_interval_prop[1]:.2f}\")\n",
        "print(f\"Margin of Error: {margin_of_error_prop:.2f}\")\n"
      ],
      "metadata": {
        "colab": {
          "base_uri": "https://localhost:8080/"
        },
        "id": "cqEpr9Tt1GDc",
        "outputId": "e1ae4ff7-a8b2-4d52-a38b-bf07adfe38d2"
      },
      "execution_count": null,
      "outputs": [
        {
          "output_type": "stream",
          "name": "stdout",
          "text": [
            "Sample Proportion: 0.24\n",
            "95% Confidence Interval for Proportion: 0.12 - 0.36\n",
            "Margin of Error: 0.12\n"
          ]
        }
      ]
    },
    {
      "cell_type": "markdown",
      "source": [
        "**A single bootstrap**"
      ],
      "metadata": {
        "id": "a3KmPeQ61uWE"
      }
    },
    {
      "cell_type": "code",
      "source": [
        "#Bootstrap\n",
        "# Select a single sample of size 30\n",
        "sample_size_bootstrap = 30\n",
        "random_sample_bootstrap = df_age.sample(n=sample_size_bootstrap, replace=True)\n",
        "\n",
        "# Function to perform bootstrapping\n",
        "def bootstrap(data, n_bootstrap_samples):\n",
        "    bootstrap_means = [data.sample(frac=1, replace=True).mean() for _ in range(n_bootstrap_samples)]\n",
        "    return np.array(bootstrap_means)\n",
        "\n",
        "# Perform bootstrapping\n",
        "n_bootstrap_samples = 1\n",
        "bootstrap_means = bootstrap(random_sample_bootstrap, n_bootstrap_samples)\n",
        "\n",
        "# Calculate mean, variance, and standard deviation of bootstrap means\n",
        "mean_bootstrap_means = np.mean(bootstrap_means)\n",
        "std_dev_bootstrap_means = np.std(bootstrap_means)\n",
        "\n",
        "print(f\"Bootstrap Mean Estimate: {mean_bootstrap_means:.2f}\")\n",
        "print(f\"Bootstrap Standard Deviation: {std_dev_bootstrap_means:.2f}\")\n",
        "\n",
        "# Confidence interval for the bootstrap means\n",
        "conf_interval_bootstrap = np.percentile(bootstrap_means, [2.5, 97.5])\n",
        "print(f\"95% Confidence Interval from Bootstrapping: {conf_interval_bootstrap[0]:.2f} - {conf_interval_bootstrap[1]:.2f}\")\n",
        "\n",
        "\n",
        "\n",
        "\n",
        "#proportion confidence interval\n",
        "# Define a binary outcome for proportion calculation (e.g., age > 50)\n",
        "proportion_column = (df_age > 50).astype(int)\n",
        "\n",
        "# Select a sample from this binary outcome\n",
        "sample_proportion = proportion_column.sample(n=sample_size, replace=True)\n",
        "p_hat = sample_proportion.mean()\n",
        "\n",
        "# Confidence interval for proportion\n",
        "z_score_prop = norm.ppf(0.975)\n",
        "standard_error_prop = np.sqrt(p_hat * (1 - p_hat) / sample_size)\n",
        "margin_of_error_prop = z_score_prop * standard_error_prop\n",
        "conf_interval_prop = (p_hat - margin_of_error_prop, p_hat + margin_of_error_prop)\n",
        "\n",
        "print(f\"Sample Proportion: {p_hat:.2f}\")\n",
        "print(f\"95% Confidence Interval for Proportion: {conf_interval_prop[0]:.2f} - {conf_interval_prop[1]:.2f}\")\n",
        "print(f\"Margin of Error: {margin_of_error_prop:.2f}\")"
      ],
      "metadata": {
        "colab": {
          "base_uri": "https://localhost:8080/"
        },
        "id": "UGrwiOZh7l8A",
        "outputId": "54282ddf-bad8-49c9-f18b-4e9268c5fbf0"
      },
      "execution_count": null,
      "outputs": [
        {
          "output_type": "stream",
          "name": "stdout",
          "text": [
            "Bootstrap Mean Estimate: 35.97\n",
            "Bootstrap Standard Deviation: 0.00\n",
            "95% Confidence Interval from Bootstrapping: 35.97 - 35.97\n",
            "Sample Proportion: 0.14\n",
            "95% Confidence Interval for Proportion: 0.04 - 0.24\n",
            "Margin of Error: 0.10\n"
          ]
        }
      ]
    },
    {
      "cell_type": "markdown",
      "source": [
        "## **Previously**"
      ],
      "metadata": {
        "id": "MUrd7N-Oyvc6"
      }
    },
    {
      "cell_type": "code",
      "source": [
        "#sampling function to take random sample of size n from this dataframe\n",
        "def sample_age(n):\n",
        "  return df_age.sample(n)\n",
        "\n",
        "# a for loop to get\n",
        "print(sample_age(1000))"
      ],
      "metadata": {
        "colab": {
          "base_uri": "https://localhost:8080/"
        },
        "id": "0QD6gJGRW2oO",
        "outputId": "3e5966f1-3726-467f-f65f-06d1d8d3a6b9"
      },
      "execution_count": null,
      "outputs": [
        {
          "output_type": "stream",
          "name": "stdout",
          "text": [
            "39023    33\n",
            "37865    35\n",
            "18814    43\n",
            "47675    37\n",
            "37530    27\n",
            "         ..\n",
            "11675    36\n",
            "11060    58\n",
            "16284    51\n",
            "30797    33\n",
            "47850    36\n",
            "Name: age, Length: 1000, dtype: int64\n"
          ]
        }
      ]
    },
    {
      "cell_type": "code",
      "source": [
        "#sampling w mean\n",
        "def sample_mean(data, sample_size):\n",
        "  sample=data.sample(n=sample_size, replace =False) #keeping replace false for here\n",
        "  return sample.mean()\n",
        "\n",
        "n_samples = 1000\n",
        "sample_size = 50\n",
        "sample_means = [\n",
        "    sample_mean(df_age, sample_size) for _ in range(n_samples)\n",
        "] #storing in an array our samples' means\n",
        "\n",
        "#mean, variance, standard deviation of sampled means\n",
        "mean_sample_means = np.mean(sample_means)\n",
        "variance_sample_means = np.var(sample_means)\n",
        "standard_deviation_means = np.std(sample_means)\n",
        "\n",
        "print(f\"Mean of Sample Means: {mean_sample_means:.2f}\") #f\"... f-string format to do func call etc inside print\n",
        "print(f\"Variance of Sample Means: {variance_sample_means:.2f}\") #:.2f for format specifier, precision, how many places and what type\n",
        "print(f\"Standard Deviation of Sample Means: {standard_deviation_means:.2f}\")\n",
        "\n",
        "plt.hist(sample_means, bins=30, density=True, alpha=0.6, color='g') #our histogram\n",
        "\n",
        "#overlaying a normal dist\n",
        "x = np.linspace(min(sample_means), max(sample_means), 100)\n",
        "p = norm.pdf(x, mean_sample_means, standard_deviation_means) #/ np.sqrt(sample_size)\n",
        "plt.plot(x,p, 'k', linewidth=2)\n",
        "\n",
        "plt.title('Histogram of Sample Means with Normal Distribution Overlay')\n",
        "plt.xlabel('Sample Mean')\n",
        "plt.ylabel('Frequency')\n",
        "plt.show()"
      ],
      "metadata": {
        "colab": {
          "base_uri": "https://localhost:8080/",
          "height": 524
        },
        "id": "7DTxDO1MD7Pb",
        "outputId": "d7d3b4fe-6a02-4754-c9d0-d35014239035"
      },
      "execution_count": null,
      "outputs": [
        {
          "output_type": "stream",
          "name": "stdout",
          "text": [
            "Mean of Sample Means: 38.62\n",
            "Variance of Sample Means: 3.82\n",
            "Standard Deviation of Sample Means: 1.95\n"
          ]
        },
        {
          "output_type": "display_data",
          "data": {
            "text/plain": [
              "<Figure size 640x480 with 1 Axes>"
            ],
            "image/png": "[encoded data removed]"
          },
          "metadata": {}
        }
      ]
    },
    {
      "cell_type": "code",
      "source": [
        "#Confidence interval calcer\n",
        "z_score = norm.ppf(0.975)  # 95% confidence interval\n",
        "margin_of_error = z_score * (standard_deviation_means / np.sqrt(sample_size))\n",
        "conf_interval = (mean_sample_means - margin_of_error, mean_sample_means + margin_of_error)\n",
        "\n",
        "print(f\"95% Confidence Interval for the Mean: {conf_interval[0]:.2f} - {conf_interval[1]:.2f}\")\n"
      ],
      "metadata": {
        "colab": {
          "base_uri": "https://localhost:8080/"
        },
        "id": "gxsCiApHeCFp",
        "outputId": "549eceb8-23b9-4863-f1ce-b542fcb416d4"
      },
      "execution_count": null,
      "outputs": [
        {
          "output_type": "stream",
          "name": "stdout",
          "text": [
            "95% Confidence Interval for the Mean: 38.07 - 39.16\n"
          ]
        }
      ]
    },
    {
      "cell_type": "code",
      "source": [
        "#Bootstrap\n",
        "# Select a single sample of size 30\n",
        "sample_size_bootstrap = 30\n",
        "random_sample_bootstrap = df_age.sample(n=sample_size_bootstrap, replace=False)\n",
        "\n",
        "# Function to perform bootstrapping\n",
        "def bootstrap(data, n_bootstrap_samples):\n",
        "    bootstrap_means = [data.sample(frac=1, replace=True).mean() for _ in range(n_bootstrap_samples)]\n",
        "    return np.array(bootstrap_means)\n",
        "\n",
        "# Perform bootstrapping\n",
        "n_bootstrap_samples = 1000\n",
        "bootstrap_means = bootstrap(random_sample_bootstrap, n_bootstrap_samples)\n",
        "\n",
        "# Calculate mean, variance, and standard deviation of bootstrap means\n",
        "mean_bootstrap_means = np.mean(bootstrap_means)\n",
        "std_dev_bootstrap_means = np.std(bootstrap_means)\n",
        "\n",
        "print(f\"Bootstrap Mean Estimate: {mean_bootstrap_means:.2f}\")\n",
        "print(f\"Bootstrap Standard Deviation: {std_dev_bootstrap_means:.2f}\")\n",
        "\n",
        "# Confidence interval for the bootstrap means\n",
        "conf_interval_bootstrap = np.percentile(bootstrap_means, [2.5, 97.5])\n",
        "print(f\"95% Confidence Interval from Bootstrapping: {conf_interval_bootstrap[0]:.2f} - {conf_interval_bootstrap[1]:.2f}\")\n"
      ],
      "metadata": {
        "colab": {
          "base_uri": "https://localhost:8080/"
        },
        "id": "1RBsoO-OeOtk",
        "outputId": "76d05bc5-2679-418a-d79f-8014043c758b"
      },
      "execution_count": null,
      "outputs": [
        {
          "output_type": "stream",
          "name": "stdout",
          "text": [
            "Bootstrap Mean Estimate: 37.58\n",
            "Bootstrap Standard Deviation: 1.77\n",
            "95% Confidence Interval from Bootstrapping: 34.13 - 40.97\n"
          ]
        }
      ]
    },
    {
      "cell_type": "code",
      "source": [
        "#proportion confidence interval\n",
        "# Define a binary outcome for proportion calculation (e.g., age > 50)\n",
        "proportion_column = (df_age > 50).astype(int)\n",
        "\n",
        "# Select a sample from this binary outcome\n",
        "sample_proportion = proportion_column.sample(n=sample_size, replace=False)\n",
        "p_hat = sample_proportion.mean()\n",
        "\n",
        "# Confidence interval for proportion\n",
        "z_score_prop = norm.ppf(0.975)\n",
        "standard_error_prop = np.sqrt(p_hat * (1 - p_hat) / sample_size)\n",
        "margin_of_error_prop = z_score_prop * standard_error_prop\n",
        "conf_interval_prop = (p_hat - margin_of_error_prop, p_hat + margin_of_error_prop)\n",
        "\n",
        "print(f\"Sample Proportion: {p_hat:.2f}\")\n",
        "print(f\"95% Confidence Interval for Proportion: {conf_interval_prop[0]:.2f} - {conf_interval_prop[1]:.2f}\")\n",
        "print(f\"Margin of Error: {margin_of_error_prop:.2f}\")\n"
      ],
      "metadata": {
        "colab": {
          "base_uri": "https://localhost:8080/"
        },
        "id": "s4A1tehBeXQ0",
        "outputId": "407e1fdd-901c-4e2b-972c-ae064eb449ff"
      },
      "execution_count": null,
      "outputs": [
        {
          "output_type": "stream",
          "name": "stdout",
          "text": [
            "Sample Proportion: 0.12\n",
            "95% Confidence Interval for Proportion: 0.03 - 0.21\n",
            "Margin of Error: 0.09\n"
          ]
        }
      ]
    }
  ]
}